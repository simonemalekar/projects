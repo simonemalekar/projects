{
 "cells": [
  {
   "cell_type": "code",
   "execution_count": 2,
   "id": "45e3424f-9191-489b-b46e-408f3f426aa3",
   "metadata": {},
   "outputs": [],
   "source": [
    "%matplotlib inline\n",
    "import pandas as pd\n",
    "import numpy as np\n",
    "import scipy.stats as stats\n",
    "import statsmodels.api as sm\n",
    "import statsmodels.formula.api as smf\n",
    "import matplotlib.pyplot as plt\n",
    "import os.path as path"
   ]
  },
  {
   "cell_type": "markdown",
   "id": "c814ce20-249f-4276-b1e5-119abecfcb2c",
   "metadata": {},
   "source": [
    "## 2011 data"
   ]
  },
  {
   "cell_type": "code",
   "execution_count": 3,
   "id": "679d2649-3dd3-47c8-a901-9d88afb32e90",
   "metadata": {},
   "outputs": [
    {
     "data": {
      "text/html": [
       "<div>\n",
       "<style scoped>\n",
       "    .dataframe tbody tr th:only-of-type {\n",
       "        vertical-align: middle;\n",
       "    }\n",
       "\n",
       "    .dataframe tbody tr th {\n",
       "        vertical-align: top;\n",
       "    }\n",
       "\n",
       "    .dataframe thead th {\n",
       "        text-align: right;\n",
       "    }\n",
       "</style>\n",
       "<table border=\"1\" class=\"dataframe\">\n",
       "  <thead>\n",
       "    <tr style=\"text-align: right;\">\n",
       "      <th></th>\n",
       "      <th>Column1</th>\n",
       "      <th>State</th>\n",
       "      <th>Area</th>\n",
       "      <th>Sex</th>\n",
       "      <th>Literacy_Rate</th>\n",
       "    </tr>\n",
       "  </thead>\n",
       "  <tbody>\n",
       "    <tr>\n",
       "      <th>0</th>\n",
       "      <td>1</td>\n",
       "      <td>JAMMU &amp; KASHMIR</td>\n",
       "      <td>Rural</td>\n",
       "      <td>Female</td>\n",
       "      <td>53.36</td>\n",
       "    </tr>\n",
       "    <tr>\n",
       "      <th>1</th>\n",
       "      <td>2</td>\n",
       "      <td>HIMACHAL PRADESH</td>\n",
       "      <td>Rural</td>\n",
       "      <td>Female</td>\n",
       "      <td>75.33</td>\n",
       "    </tr>\n",
       "    <tr>\n",
       "      <th>2</th>\n",
       "      <td>3</td>\n",
       "      <td>PUNJAB</td>\n",
       "      <td>Rural</td>\n",
       "      <td>Female</td>\n",
       "      <td>66.47</td>\n",
       "    </tr>\n",
       "    <tr>\n",
       "      <th>3</th>\n",
       "      <td>4</td>\n",
       "      <td>CHANDIGARH #</td>\n",
       "      <td>Rural</td>\n",
       "      <td>Female</td>\n",
       "      <td>74.17</td>\n",
       "    </tr>\n",
       "    <tr>\n",
       "      <th>4</th>\n",
       "      <td>5</td>\n",
       "      <td>UTTARAKHAND</td>\n",
       "      <td>Rural</td>\n",
       "      <td>Female</td>\n",
       "      <td>66.79</td>\n",
       "    </tr>\n",
       "  </tbody>\n",
       "</table>\n",
       "</div>"
      ],
      "text/plain": [
       "   Column1             State   Area     Sex  Literacy_Rate\n",
       "0        1   JAMMU & KASHMIR  Rural  Female          53.36\n",
       "1        2  HIMACHAL PRADESH  Rural  Female          75.33\n",
       "2        3            PUNJAB  Rural  Female          66.47\n",
       "3        4      CHANDIGARH #  Rural  Female          74.17\n",
       "4        5       UTTARAKHAND  Rural  Female          66.79"
      ]
     },
     "execution_count": 3,
     "metadata": {},
     "output_type": "execute_result"
    }
   ],
   "source": [
    "#load data\n",
    "data2011 = pd.read_csv('https://raw.githubusercontent.com/simonemalekar/SDS/main/literacy2011.csv', \n",
    "                   delimiter = ',', engine = 'python')\n",
    "\n",
    "data2011.head()"
   ]
  },
  {
   "cell_type": "code",
   "execution_count": 27,
   "id": "3490f47c-d2c2-4d2e-89e9-5931eabcf0de",
   "metadata": {},
   "outputs": [],
   "source": [
    "data2011 = data2011.rename(columns = {'Literacy_Rate': 'Rate'})\n",
    "data2011 = data2011.drop(columns = 'Column1')"
   ]
  },
  {
   "cell_type": "code",
   "execution_count": 28,
   "id": "611b6e41-b081-4de7-bcbc-7272c3643507",
   "metadata": {},
   "outputs": [
    {
     "data": {
      "text/html": [
       "<div>\n",
       "<style scoped>\n",
       "    .dataframe tbody tr th:only-of-type {\n",
       "        vertical-align: middle;\n",
       "    }\n",
       "\n",
       "    .dataframe tbody tr th {\n",
       "        vertical-align: top;\n",
       "    }\n",
       "\n",
       "    .dataframe thead th {\n",
       "        text-align: right;\n",
       "    }\n",
       "</style>\n",
       "<table border=\"1\" class=\"dataframe\">\n",
       "  <thead>\n",
       "    <tr style=\"text-align: right;\">\n",
       "      <th></th>\n",
       "      <th>State</th>\n",
       "      <th>Area</th>\n",
       "      <th>Sex</th>\n",
       "      <th>Rate</th>\n",
       "    </tr>\n",
       "  </thead>\n",
       "  <tbody>\n",
       "    <tr>\n",
       "      <th>0</th>\n",
       "      <td>JAMMU &amp; KASHMIR</td>\n",
       "      <td>Rural</td>\n",
       "      <td>Female</td>\n",
       "      <td>53.36</td>\n",
       "    </tr>\n",
       "    <tr>\n",
       "      <th>1</th>\n",
       "      <td>HIMACHAL PRADESH</td>\n",
       "      <td>Rural</td>\n",
       "      <td>Female</td>\n",
       "      <td>75.33</td>\n",
       "    </tr>\n",
       "    <tr>\n",
       "      <th>2</th>\n",
       "      <td>PUNJAB</td>\n",
       "      <td>Rural</td>\n",
       "      <td>Female</td>\n",
       "      <td>66.47</td>\n",
       "    </tr>\n",
       "    <tr>\n",
       "      <th>3</th>\n",
       "      <td>CHANDIGARH #</td>\n",
       "      <td>Rural</td>\n",
       "      <td>Female</td>\n",
       "      <td>74.17</td>\n",
       "    </tr>\n",
       "    <tr>\n",
       "      <th>4</th>\n",
       "      <td>UTTARAKHAND</td>\n",
       "      <td>Rural</td>\n",
       "      <td>Female</td>\n",
       "      <td>66.79</td>\n",
       "    </tr>\n",
       "  </tbody>\n",
       "</table>\n",
       "</div>"
      ],
      "text/plain": [
       "              State   Area     Sex   Rate\n",
       "0   JAMMU & KASHMIR  Rural  Female  53.36\n",
       "1  HIMACHAL PRADESH  Rural  Female  75.33\n",
       "2            PUNJAB  Rural  Female  66.47\n",
       "3      CHANDIGARH #  Rural  Female  74.17\n",
       "4       UTTARAKHAND  Rural  Female  66.79"
      ]
     },
     "execution_count": 28,
     "metadata": {},
     "output_type": "execute_result"
    }
   ],
   "source": [
    "data2011.head()"
   ]
  },
  {
   "cell_type": "code",
   "execution_count": 5,
   "id": "4f0972fe-af8f-4510-a3ea-809bad4b18c3",
   "metadata": {},
   "outputs": [
    {
     "data": {
      "text/html": [
       "<table class=\"simpletable\">\n",
       "<caption>OLS Regression Results</caption>\n",
       "<tr>\n",
       "  <th>Dep. Variable:</th>          <td>Rate</td>       <th>  R-squared:         </th> <td>   0.575</td>\n",
       "</tr>\n",
       "<tr>\n",
       "  <th>Model:</th>                   <td>OLS</td>       <th>  Adj. R-squared:    </th> <td>   0.569</td>\n",
       "</tr>\n",
       "<tr>\n",
       "  <th>Method:</th>             <td>Least Squares</td>  <th>  F-statistic:       </th> <td>   92.66</td>\n",
       "</tr>\n",
       "<tr>\n",
       "  <th>Date:</th>             <td>Tue, 28 Dec 2021</td> <th>  Prob (F-statistic):</th> <td>3.52e-26</td>\n",
       "</tr>\n",
       "<tr>\n",
       "  <th>Time:</th>                 <td>13:30:52</td>     <th>  Log-Likelihood:    </th> <td> -483.94</td>\n",
       "</tr>\n",
       "<tr>\n",
       "  <th>No. Observations:</th>      <td>   140</td>      <th>  AIC:               </th> <td>   973.9</td>\n",
       "</tr>\n",
       "<tr>\n",
       "  <th>Df Residuals:</th>          <td>   137</td>      <th>  BIC:               </th> <td>   982.7</td>\n",
       "</tr>\n",
       "<tr>\n",
       "  <th>Df Model:</th>              <td>     2</td>      <th>                     </th>     <td> </td>   \n",
       "</tr>\n",
       "<tr>\n",
       "  <th>Covariance Type:</th>      <td>nonrobust</td>    <th>                     </th>     <td> </td>   \n",
       "</tr>\n",
       "</table>\n",
       "<table class=\"simpletable\">\n",
       "<tr>\n",
       "        <td></td>           <th>coef</th>     <th>std err</th>      <th>t</th>      <th>P>|t|</th>  <th>[0.025</th>    <th>0.975]</th>  \n",
       "</tr>\n",
       "<tr>\n",
       "  <th>Intercept</th>     <td>   67.8458</td> <td>    1.135</td> <td>   59.750</td> <td> 0.000</td> <td>   65.600</td> <td>   70.091</td>\n",
       "</tr>\n",
       "<tr>\n",
       "  <th>Area[T.Urban]</th> <td>   12.5393</td> <td>    1.311</td> <td>    9.564</td> <td> 0.000</td> <td>    9.947</td> <td>   15.132</td>\n",
       "</tr>\n",
       "<tr>\n",
       "  <th>Sex[T.Male]</th>   <td>   12.7030</td> <td>    1.311</td> <td>    9.688</td> <td> 0.000</td> <td>   10.110</td> <td>   15.296</td>\n",
       "</tr>\n",
       "</table>\n",
       "<table class=\"simpletable\">\n",
       "<tr>\n",
       "  <th>Omnibus:</th>       <td> 1.695</td> <th>  Durbin-Watson:     </th> <td>   1.433</td>\n",
       "</tr>\n",
       "<tr>\n",
       "  <th>Prob(Omnibus):</th> <td> 0.428</td> <th>  Jarque-Bera (JB):  </th> <td>   1.337</td>\n",
       "</tr>\n",
       "<tr>\n",
       "  <th>Skew:</th>          <td>-0.008</td> <th>  Prob(JB):          </th> <td>   0.512</td>\n",
       "</tr>\n",
       "<tr>\n",
       "  <th>Kurtosis:</th>      <td> 3.478</td> <th>  Cond. No.          </th> <td>    3.19</td>\n",
       "</tr>\n",
       "</table><br/><br/>Notes:<br/>[1] Standard Errors assume that the covariance matrix of the errors is correctly specified."
      ],
      "text/plain": [
       "<class 'statsmodels.iolib.summary.Summary'>\n",
       "\"\"\"\n",
       "                            OLS Regression Results                            \n",
       "==============================================================================\n",
       "Dep. Variable:                   Rate   R-squared:                       0.575\n",
       "Model:                            OLS   Adj. R-squared:                  0.569\n",
       "Method:                 Least Squares   F-statistic:                     92.66\n",
       "Date:                Tue, 28 Dec 2021   Prob (F-statistic):           3.52e-26\n",
       "Time:                        13:30:52   Log-Likelihood:                -483.94\n",
       "No. Observations:                 140   AIC:                             973.9\n",
       "Df Residuals:                     137   BIC:                             982.7\n",
       "Df Model:                           2                                         \n",
       "Covariance Type:            nonrobust                                         \n",
       "=================================================================================\n",
       "                    coef    std err          t      P>|t|      [0.025      0.975]\n",
       "---------------------------------------------------------------------------------\n",
       "Intercept        67.8458      1.135     59.750      0.000      65.600      70.091\n",
       "Area[T.Urban]    12.5393      1.311      9.564      0.000       9.947      15.132\n",
       "Sex[T.Male]      12.7030      1.311      9.688      0.000      10.110      15.296\n",
       "==============================================================================\n",
       "Omnibus:                        1.695   Durbin-Watson:                   1.433\n",
       "Prob(Omnibus):                  0.428   Jarque-Bera (JB):                1.337\n",
       "Skew:                          -0.008   Prob(JB):                        0.512\n",
       "Kurtosis:                       3.478   Cond. No.                         3.19\n",
       "==============================================================================\n",
       "\n",
       "Notes:\n",
       "[1] Standard Errors assume that the covariance matrix of the errors is correctly specified.\n",
       "\"\"\""
      ]
     },
     "execution_count": 5,
     "metadata": {},
     "output_type": "execute_result"
    }
   ],
   "source": [
    "formula = 'Rate ~ Area + Sex'\n",
    "fit = smf.ols(formula = formula, data = data2011).fit()\n",
    "fit.summary()"
   ]
  },
  {
   "cell_type": "code",
   "execution_count": 6,
   "id": "a8de03cd-6f74-4d85-9164-7d2b85298ef9",
   "metadata": {},
   "outputs": [
    {
     "data": {
      "text/html": [
       "<table class=\"simpletable\">\n",
       "<caption>OLS Regression Results</caption>\n",
       "<tr>\n",
       "  <th>Dep. Variable:</th>          <td>Rate</td>       <th>  R-squared:         </th> <td>   0.598</td>\n",
       "</tr>\n",
       "<tr>\n",
       "  <th>Model:</th>                   <td>OLS</td>       <th>  Adj. R-squared:    </th> <td>   0.589</td>\n",
       "</tr>\n",
       "<tr>\n",
       "  <th>Method:</th>             <td>Least Squares</td>  <th>  F-statistic:       </th> <td>   67.44</td>\n",
       "</tr>\n",
       "<tr>\n",
       "  <th>Date:</th>             <td>Tue, 28 Dec 2021</td> <th>  Prob (F-statistic):</th> <td>8.86e-27</td>\n",
       "</tr>\n",
       "<tr>\n",
       "  <th>Time:</th>                 <td>13:30:59</td>     <th>  Log-Likelihood:    </th> <td> -480.03</td>\n",
       "</tr>\n",
       "<tr>\n",
       "  <th>No. Observations:</th>      <td>   140</td>      <th>  AIC:               </th> <td>   968.1</td>\n",
       "</tr>\n",
       "<tr>\n",
       "  <th>Df Residuals:</th>          <td>   136</td>      <th>  BIC:               </th> <td>   979.8</td>\n",
       "</tr>\n",
       "<tr>\n",
       "  <th>Df Model:</th>              <td>     3</td>      <th>                     </th>     <td> </td>   \n",
       "</tr>\n",
       "<tr>\n",
       "  <th>Covariance Type:</th>      <td>nonrobust</td>    <th>                     </th>     <td> </td>   \n",
       "</tr>\n",
       "</table>\n",
       "<table class=\"simpletable\">\n",
       "<tr>\n",
       "              <td></td>                 <th>coef</th>     <th>std err</th>      <th>t</th>      <th>P>|t|</th>  <th>[0.025</th>    <th>0.975]</th>  \n",
       "</tr>\n",
       "<tr>\n",
       "  <th>Intercept</th>                 <td>   66.0589</td> <td>    1.280</td> <td>   51.617</td> <td> 0.000</td> <td>   63.528</td> <td>   68.590</td>\n",
       "</tr>\n",
       "<tr>\n",
       "  <th>Area[T.Urban]</th>             <td>   16.1131</td> <td>    1.810</td> <td>    8.903</td> <td> 0.000</td> <td>   12.534</td> <td>   19.692</td>\n",
       "</tr>\n",
       "<tr>\n",
       "  <th>Sex[T.Male]</th>               <td>   16.2769</td> <td>    1.810</td> <td>    8.993</td> <td> 0.000</td> <td>   12.698</td> <td>   19.856</td>\n",
       "</tr>\n",
       "<tr>\n",
       "  <th>Area[T.Urban]:Sex[T.Male]</th> <td>   -7.1477</td> <td>    2.560</td> <td>   -2.793</td> <td> 0.006</td> <td>  -12.209</td> <td>   -2.086</td>\n",
       "</tr>\n",
       "</table>\n",
       "<table class=\"simpletable\">\n",
       "<tr>\n",
       "  <th>Omnibus:</th>       <td> 3.115</td> <th>  Durbin-Watson:     </th> <td>   1.524</td>\n",
       "</tr>\n",
       "<tr>\n",
       "  <th>Prob(Omnibus):</th> <td> 0.211</td> <th>  Jarque-Bera (JB):  </th> <td>   2.991</td>\n",
       "</tr>\n",
       "<tr>\n",
       "  <th>Skew:</th>          <td> 0.153</td> <th>  Prob(JB):          </th> <td>   0.224</td>\n",
       "</tr>\n",
       "<tr>\n",
       "  <th>Kurtosis:</th>      <td> 3.647</td> <th>  Cond. No.          </th> <td>    6.85</td>\n",
       "</tr>\n",
       "</table><br/><br/>Notes:<br/>[1] Standard Errors assume that the covariance matrix of the errors is correctly specified."
      ],
      "text/plain": [
       "<class 'statsmodels.iolib.summary.Summary'>\n",
       "\"\"\"\n",
       "                            OLS Regression Results                            \n",
       "==============================================================================\n",
       "Dep. Variable:                   Rate   R-squared:                       0.598\n",
       "Model:                            OLS   Adj. R-squared:                  0.589\n",
       "Method:                 Least Squares   F-statistic:                     67.44\n",
       "Date:                Tue, 28 Dec 2021   Prob (F-statistic):           8.86e-27\n",
       "Time:                        13:30:59   Log-Likelihood:                -480.03\n",
       "No. Observations:                 140   AIC:                             968.1\n",
       "Df Residuals:                     136   BIC:                             979.8\n",
       "Df Model:                           3                                         \n",
       "Covariance Type:            nonrobust                                         \n",
       "=============================================================================================\n",
       "                                coef    std err          t      P>|t|      [0.025      0.975]\n",
       "---------------------------------------------------------------------------------------------\n",
       "Intercept                    66.0589      1.280     51.617      0.000      63.528      68.590\n",
       "Area[T.Urban]                16.1131      1.810      8.903      0.000      12.534      19.692\n",
       "Sex[T.Male]                  16.2769      1.810      8.993      0.000      12.698      19.856\n",
       "Area[T.Urban]:Sex[T.Male]    -7.1477      2.560     -2.793      0.006     -12.209      -2.086\n",
       "==============================================================================\n",
       "Omnibus:                        3.115   Durbin-Watson:                   1.524\n",
       "Prob(Omnibus):                  0.211   Jarque-Bera (JB):                2.991\n",
       "Skew:                           0.153   Prob(JB):                        0.224\n",
       "Kurtosis:                       3.647   Cond. No.                         6.85\n",
       "==============================================================================\n",
       "\n",
       "Notes:\n",
       "[1] Standard Errors assume that the covariance matrix of the errors is correctly specified.\n",
       "\"\"\""
      ]
     },
     "execution_count": 6,
     "metadata": {},
     "output_type": "execute_result"
    }
   ],
   "source": [
    "formula = 'Rate ~ Area * Sex'\n",
    "fit = smf.ols(formula = formula, data = data2011).fit()\n",
    "fit.summary()"
   ]
  },
  {
   "cell_type": "code",
   "execution_count": 7,
   "id": "2a60690d-eb11-4318-ac97-bf965f0e89ca",
   "metadata": {},
   "outputs": [
    {
     "data": {
      "text/plain": [
       "<AxesSubplot:xlabel='Area', ylabel='Rate'>"
      ]
     },
     "execution_count": 7,
     "metadata": {},
     "output_type": "execute_result"
    },
    {
     "data": {
      "image/png": "[encoded data removed]",
      "text/plain": [
       "<Figure size 1080x576 with 1 Axes>"
      ]
     },
     "metadata": {
      "needs_background": "light"
     },
     "output_type": "display_data"
    }
   ],
   "source": [
    "import seaborn as sns\n",
    "\n",
    "#plotting area level on rate\n",
    "\n",
    "fig, ax = plt.subplots(figsize = (15, 8))\n",
    "sns.boxplot(x='Area',y='Rate',data=data2011,palette='rainbow')"
   ]
  },
  {
   "cell_type": "code",
   "execution_count": 9,
   "id": "8d8979be-bce8-45d4-9aca-2a13fc7c6771",
   "metadata": {},
   "outputs": [
    {
     "data": {
      "text/plain": [
       "<AxesSubplot:xlabel='Sex', ylabel='Rate'>"
      ]
     },
     "execution_count": 9,
     "metadata": {},
     "output_type": "execute_result"
    },
    {
     "data": {
      "image/png": "[encoded data removed]",
      "text/plain": [
       "<Figure size 1080x576 with 1 Axes>"
      ]
     },
     "metadata": {
      "needs_background": "light"
     },
     "output_type": "display_data"
    }
   ],
   "source": [
    "import seaborn as sns\n",
    "\n",
    "#plotting sex level on rate\n",
    "\n",
    "fig, ax = plt.subplots(figsize = (15, 8))\n",
    "sns.boxplot(x='Sex',y='Rate',data=data2011,palette='rainbow')"
   ]
  },
  {
   "cell_type": "code",
   "execution_count": 52,
   "id": "96fd7d0e-45a1-49ba-b936-8baba9603417",
   "metadata": {},
   "outputs": [],
   "source": [
    "#select only rural areas\n",
    "\n",
    "rural2011 = data2011[data2011['Area'] == 'Rural']\n",
    "urban2011 = data2011[data2011['Area'] == 'Urban']\n",
    "females2011 = data2011[data2011['Sex'] == 'Female']\n",
    "males2011 = data2011[data2011['Sex'] == 'Male']"
   ]
  },
  {
   "cell_type": "code",
   "execution_count": 51,
   "id": "076febdb-3a7e-4059-8f8e-f4c73b64c5d7",
   "metadata": {},
   "outputs": [
    {
     "data": {
      "text/plain": [
       "<AxesSubplot:xlabel='Area', ylabel='Rate'>"
      ]
     },
     "execution_count": 51,
     "metadata": {},
     "output_type": "execute_result"
    },
    {
     "data": {
      "image/png": "[encoded data removed]",
      "text/plain": [
       "<Figure size 1080x576 with 4 Axes>"
      ]
     },
     "metadata": {
      "needs_background": "light"
     },
     "output_type": "display_data"
    }
   ],
   "source": [
    "fig, axes = plt.subplots(2,2, figsize = (15,8))\n",
    "\n",
    "sns.boxplot(x='Sex',y='Rate',data=rural2011,palette='rainbow', ax = axes[0,0])\n",
    "sns.boxplot(x='Sex',y='Rate',data=urban2011,palette='rainbow', ax = axes[0,1])\n",
    "sns.boxplot(x='Area',y='Rate',data=females2011,palette='rainbow', ax = axes[1,0])\n",
    "sns.boxplot(x='Area',y='Rate',data=males2011,palette='rainbow', ax = axes[1,1])"
   ]
  },
  {
   "cell_type": "code",
   "execution_count": 49,
   "id": "54321742-adea-49a4-8ea9-d96ebefe8d06",
   "metadata": {},
   "outputs": [
    {
     "data": {
      "text/plain": [
       "<AxesSubplot:xlabel='Sex', ylabel='Rate'>"
      ]
     },
     "execution_count": 49,
     "metadata": {},
     "output_type": "execute_result"
    },
    {
     "data": {
      "image/png": "[encoded data removed]",
      "text/plain": [
       "<Figure size 432x288 with 1 Axes>"
      ]
     },
     "metadata": {
      "needs_background": "light"
     },
     "output_type": "display_data"
    }
   ],
   "source": [
    "sns.scatterplot(data = data2011, y = 'Rate', x = 'Sex', hue = 'Area')"
   ]
  },
  {
   "cell_type": "markdown",
   "id": "0dbba202-6b70-4322-bfd0-dc63f2d15d02",
   "metadata": {},
   "source": [
    "## 2001 data"
   ]
  },
  {
   "cell_type": "code",
   "execution_count": 34,
   "id": "a1e74deb-a56d-47f9-aa09-9b8359b73bc1",
   "metadata": {},
   "outputs": [
    {
     "data": {
      "text/html": [
       "<div>\n",
       "<style scoped>\n",
       "    .dataframe tbody tr th:only-of-type {\n",
       "        vertical-align: middle;\n",
       "    }\n",
       "\n",
       "    .dataframe tbody tr th {\n",
       "        vertical-align: top;\n",
       "    }\n",
       "\n",
       "    .dataframe thead th {\n",
       "        text-align: right;\n",
       "    }\n",
       "</style>\n",
       "<table border=\"1\" class=\"dataframe\">\n",
       "  <thead>\n",
       "    <tr style=\"text-align: right;\">\n",
       "      <th></th>\n",
       "      <th>Column1</th>\n",
       "      <th>State</th>\n",
       "      <th>Area</th>\n",
       "      <th>Sex</th>\n",
       "      <th>Literacy Rate</th>\n",
       "    </tr>\n",
       "  </thead>\n",
       "  <tbody>\n",
       "    <tr>\n",
       "      <th>0</th>\n",
       "      <td>1</td>\n",
       "      <td>JAMMU &amp; KASHMIR</td>\n",
       "      <td>Rural</td>\n",
       "      <td>Male</td>\n",
       "      <td>72.71</td>\n",
       "    </tr>\n",
       "    <tr>\n",
       "      <th>1</th>\n",
       "      <td>2</td>\n",
       "      <td>HIMACHAL PRADESH</td>\n",
       "      <td>Rural</td>\n",
       "      <td>Male</td>\n",
       "      <td>86.55</td>\n",
       "    </tr>\n",
       "    <tr>\n",
       "      <th>2</th>\n",
       "      <td>3</td>\n",
       "      <td>PUNJAB</td>\n",
       "      <td>Rural</td>\n",
       "      <td>Male</td>\n",
       "      <td>71.94</td>\n",
       "    </tr>\n",
       "    <tr>\n",
       "      <th>3</th>\n",
       "      <td>4</td>\n",
       "      <td>CHANDIGARH #</td>\n",
       "      <td>Rural</td>\n",
       "      <td>Male</td>\n",
       "      <td>70.04</td>\n",
       "    </tr>\n",
       "    <tr>\n",
       "      <th>4</th>\n",
       "      <td>5</td>\n",
       "      <td>UTTARAKHAND</td>\n",
       "      <td>Rural</td>\n",
       "      <td>Male</td>\n",
       "      <td>65.56</td>\n",
       "    </tr>\n",
       "  </tbody>\n",
       "</table>\n",
       "</div>"
      ],
      "text/plain": [
       "   Column1             State   Area   Sex  Literacy Rate\n",
       "0        1   JAMMU & KASHMIR  Rural  Male          72.71\n",
       "1        2  HIMACHAL PRADESH  Rural  Male          86.55\n",
       "2        3            PUNJAB  Rural  Male          71.94\n",
       "3        4      CHANDIGARH #  Rural  Male          70.04\n",
       "4        5       UTTARAKHAND  Rural  Male          65.56"
      ]
     },
     "execution_count": 34,
     "metadata": {},
     "output_type": "execute_result"
    }
   ],
   "source": [
    "#load data\n",
    "data2001 = pd.read_csv('https://raw.githubusercontent.com/simonemalekar/SDS/main/literacy2001.csv', \n",
    "                   delimiter = ',', engine = 'python')\n",
    "\n",
    "data2001.head()"
   ]
  },
  {
   "cell_type": "code",
   "execution_count": 37,
   "id": "a673d51b-e3ce-4149-bcb8-c910f65597ac",
   "metadata": {},
   "outputs": [],
   "source": [
    "data2001 = data2001.rename(columns = {'Literacy Rate': 'Rate'})"
   ]
  },
  {
   "cell_type": "code",
   "execution_count": 38,
   "id": "24a6ecdd-ce7d-446f-a946-46f524f0600a",
   "metadata": {},
   "outputs": [
    {
     "data": {
      "text/html": [
       "<table class=\"simpletable\">\n",
       "<caption>OLS Regression Results</caption>\n",
       "<tr>\n",
       "  <th>Dep. Variable:</th>          <td>Rate</td>       <th>  R-squared:         </th> <td>   0.733</td>\n",
       "</tr>\n",
       "<tr>\n",
       "  <th>Model:</th>                   <td>OLS</td>       <th>  Adj. R-squared:    </th> <td>   0.730</td>\n",
       "</tr>\n",
       "<tr>\n",
       "  <th>Method:</th>             <td>Least Squares</td>  <th>  F-statistic:       </th> <td>   188.5</td>\n",
       "</tr>\n",
       "<tr>\n",
       "  <th>Date:</th>             <td>Mon, 27 Dec 2021</td> <th>  Prob (F-statistic):</th> <td>4.58e-40</td>\n",
       "</tr>\n",
       "<tr>\n",
       "  <th>Time:</th>                 <td>17:49:55</td>     <th>  Log-Likelihood:    </th> <td> -497.72</td>\n",
       "</tr>\n",
       "<tr>\n",
       "  <th>No. Observations:</th>      <td>   140</td>      <th>  AIC:               </th> <td>   1001.</td>\n",
       "</tr>\n",
       "<tr>\n",
       "  <th>Df Residuals:</th>          <td>   137</td>      <th>  BIC:               </th> <td>   1010.</td>\n",
       "</tr>\n",
       "<tr>\n",
       "  <th>Df Model:</th>              <td>     2</td>      <th>                     </th>     <td> </td>   \n",
       "</tr>\n",
       "<tr>\n",
       "  <th>Covariance Type:</th>      <td>nonrobust</td>    <th>                     </th>     <td> </td>   \n",
       "</tr>\n",
       "</table>\n",
       "<table class=\"simpletable\">\n",
       "<tr>\n",
       "        <td></td>           <th>coef</th>     <th>std err</th>      <th>t</th>      <th>P>|t|</th>  <th>[0.025</th>    <th>0.975]</th>  \n",
       "</tr>\n",
       "<tr>\n",
       "  <th>Intercept</th>     <td>   50.4888</td> <td>    1.253</td> <td>   40.294</td> <td> 0.000</td> <td>   48.011</td> <td>   52.967</td>\n",
       "</tr>\n",
       "<tr>\n",
       "  <th>Area[T.Urban]</th> <td>   18.9616</td> <td>    1.447</td> <td>   13.105</td> <td> 0.000</td> <td>   16.101</td> <td>   21.823</td>\n",
       "</tr>\n",
       "<tr>\n",
       "  <th>Sex[T.Male]</th>   <td>   20.7313</td> <td>    1.447</td> <td>   14.328</td> <td> 0.000</td> <td>   17.870</td> <td>   23.592</td>\n",
       "</tr>\n",
       "</table>\n",
       "<table class=\"simpletable\">\n",
       "<tr>\n",
       "  <th>Omnibus:</th>       <td> 0.191</td> <th>  Durbin-Watson:     </th> <td>   1.408</td>\n",
       "</tr>\n",
       "<tr>\n",
       "  <th>Prob(Omnibus):</th> <td> 0.909</td> <th>  Jarque-Bera (JB):  </th> <td>   0.351</td>\n",
       "</tr>\n",
       "<tr>\n",
       "  <th>Skew:</th>          <td>-0.050</td> <th>  Prob(JB):          </th> <td>   0.839</td>\n",
       "</tr>\n",
       "<tr>\n",
       "  <th>Kurtosis:</th>      <td> 2.776</td> <th>  Cond. No.          </th> <td>    3.19</td>\n",
       "</tr>\n",
       "</table><br/><br/>Notes:<br/>[1] Standard Errors assume that the covariance matrix of the errors is correctly specified."
      ],
      "text/plain": [
       "<class 'statsmodels.iolib.summary.Summary'>\n",
       "\"\"\"\n",
       "                            OLS Regression Results                            \n",
       "==============================================================================\n",
       "Dep. Variable:                   Rate   R-squared:                       0.733\n",
       "Model:                            OLS   Adj. R-squared:                  0.730\n",
       "Method:                 Least Squares   F-statistic:                     188.5\n",
       "Date:                Mon, 27 Dec 2021   Prob (F-statistic):           4.58e-40\n",
       "Time:                        17:49:55   Log-Likelihood:                -497.72\n",
       "No. Observations:                 140   AIC:                             1001.\n",
       "Df Residuals:                     137   BIC:                             1010.\n",
       "Df Model:                           2                                         \n",
       "Covariance Type:            nonrobust                                         \n",
       "=================================================================================\n",
       "                    coef    std err          t      P>|t|      [0.025      0.975]\n",
       "---------------------------------------------------------------------------------\n",
       "Intercept        50.4888      1.253     40.294      0.000      48.011      52.967\n",
       "Area[T.Urban]    18.9616      1.447     13.105      0.000      16.101      21.823\n",
       "Sex[T.Male]      20.7313      1.447     14.328      0.000      17.870      23.592\n",
       "==============================================================================\n",
       "Omnibus:                        0.191   Durbin-Watson:                   1.408\n",
       "Prob(Omnibus):                  0.909   Jarque-Bera (JB):                0.351\n",
       "Skew:                          -0.050   Prob(JB):                        0.839\n",
       "Kurtosis:                       2.776   Cond. No.                         3.19\n",
       "==============================================================================\n",
       "\n",
       "Notes:\n",
       "[1] Standard Errors assume that the covariance matrix of the errors is correctly specified.\n",
       "\"\"\""
      ]
     },
     "execution_count": 38,
     "metadata": {},
     "output_type": "execute_result"
    }
   ],
   "source": [
    "formula = 'Rate ~ Area + Sex'\n",
    "fit = smf.ols(formula = formula, data = data2001).fit()\n",
    "fit.summary()"
   ]
  },
  {
   "cell_type": "code",
   "execution_count": 40,
   "id": "6aeaa680-e778-4d84-b11a-2363572cf5e4",
   "metadata": {},
   "outputs": [
    {
     "data": {
      "text/html": [
       "<table class=\"simpletable\">\n",
       "<caption>OLS Regression Results</caption>\n",
       "<tr>\n",
       "  <th>Dep. Variable:</th>          <td>Rate</td>       <th>  R-squared:         </th> <td>   0.796</td>\n",
       "</tr>\n",
       "<tr>\n",
       "  <th>Model:</th>                   <td>OLS</td>       <th>  Adj. R-squared:    </th> <td>   0.791</td>\n",
       "</tr>\n",
       "<tr>\n",
       "  <th>Method:</th>             <td>Least Squares</td>  <th>  F-statistic:       </th> <td>   176.7</td>\n",
       "</tr>\n",
       "<tr>\n",
       "  <th>Date:</th>             <td>Mon, 27 Dec 2021</td> <th>  Prob (F-statistic):</th> <td>1.01e-46</td>\n",
       "</tr>\n",
       "<tr>\n",
       "  <th>Time:</th>                 <td>17:50:55</td>     <th>  Log-Likelihood:    </th> <td> -479.08</td>\n",
       "</tr>\n",
       "<tr>\n",
       "  <th>No. Observations:</th>      <td>   140</td>      <th>  AIC:               </th> <td>   966.2</td>\n",
       "</tr>\n",
       "<tr>\n",
       "  <th>Df Residuals:</th>          <td>   136</td>      <th>  BIC:               </th> <td>   977.9</td>\n",
       "</tr>\n",
       "<tr>\n",
       "  <th>Df Model:</th>              <td>     3</td>      <th>                     </th>     <td> </td>   \n",
       "</tr>\n",
       "<tr>\n",
       "  <th>Covariance Type:</th>      <td>nonrobust</td>    <th>                     </th>     <td> </td>   \n",
       "</tr>\n",
       "</table>\n",
       "<table class=\"simpletable\">\n",
       "<tr>\n",
       "              <td></td>                 <th>coef</th>     <th>std err</th>      <th>t</th>      <th>P>|t|</th>  <th>[0.025</th>    <th>0.975]</th>  \n",
       "</tr>\n",
       "<tr>\n",
       "  <th>Intercept</th>                 <td>   46.3940</td> <td>    1.271</td> <td>   36.500</td> <td> 0.000</td> <td>   43.880</td> <td>   48.908</td>\n",
       "</tr>\n",
       "<tr>\n",
       "  <th>Area[T.Urban]</th>             <td>   27.1511</td> <td>    1.798</td> <td>   15.104</td> <td> 0.000</td> <td>   23.596</td> <td>   30.706</td>\n",
       "</tr>\n",
       "<tr>\n",
       "  <th>Sex[T.Male]</th>               <td>   28.9209</td> <td>    1.798</td> <td>   16.089</td> <td> 0.000</td> <td>   25.366</td> <td>   32.476</td>\n",
       "</tr>\n",
       "<tr>\n",
       "  <th>Area[T.Urban]:Sex[T.Male]</th> <td>  -16.3791</td> <td>    2.542</td> <td>   -6.443</td> <td> 0.000</td> <td>  -21.406</td> <td>  -11.352</td>\n",
       "</tr>\n",
       "</table>\n",
       "<table class=\"simpletable\">\n",
       "<tr>\n",
       "  <th>Omnibus:</th>       <td> 1.334</td> <th>  Durbin-Watson:     </th> <td>   1.808</td>\n",
       "</tr>\n",
       "<tr>\n",
       "  <th>Prob(Omnibus):</th> <td> 0.513</td> <th>  Jarque-Bera (JB):  </th> <td>   0.905</td>\n",
       "</tr>\n",
       "<tr>\n",
       "  <th>Skew:</th>          <td>-0.089</td> <th>  Prob(JB):          </th> <td>   0.636</td>\n",
       "</tr>\n",
       "<tr>\n",
       "  <th>Kurtosis:</th>      <td> 3.351</td> <th>  Cond. No.          </th> <td>    6.85</td>\n",
       "</tr>\n",
       "</table><br/><br/>Notes:<br/>[1] Standard Errors assume that the covariance matrix of the errors is correctly specified."
      ],
      "text/plain": [
       "<class 'statsmodels.iolib.summary.Summary'>\n",
       "\"\"\"\n",
       "                            OLS Regression Results                            \n",
       "==============================================================================\n",
       "Dep. Variable:                   Rate   R-squared:                       0.796\n",
       "Model:                            OLS   Adj. R-squared:                  0.791\n",
       "Method:                 Least Squares   F-statistic:                     176.7\n",
       "Date:                Mon, 27 Dec 2021   Prob (F-statistic):           1.01e-46\n",
       "Time:                        17:50:55   Log-Likelihood:                -479.08\n",
       "No. Observations:                 140   AIC:                             966.2\n",
       "Df Residuals:                     136   BIC:                             977.9\n",
       "Df Model:                           3                                         \n",
       "Covariance Type:            nonrobust                                         \n",
       "=============================================================================================\n",
       "                                coef    std err          t      P>|t|      [0.025      0.975]\n",
       "---------------------------------------------------------------------------------------------\n",
       "Intercept                    46.3940      1.271     36.500      0.000      43.880      48.908\n",
       "Area[T.Urban]                27.1511      1.798     15.104      0.000      23.596      30.706\n",
       "Sex[T.Male]                  28.9209      1.798     16.089      0.000      25.366      32.476\n",
       "Area[T.Urban]:Sex[T.Male]   -16.3791      2.542     -6.443      0.000     -21.406     -11.352\n",
       "==============================================================================\n",
       "Omnibus:                        1.334   Durbin-Watson:                   1.808\n",
       "Prob(Omnibus):                  0.513   Jarque-Bera (JB):                0.905\n",
       "Skew:                          -0.089   Prob(JB):                        0.636\n",
       "Kurtosis:                       3.351   Cond. No.                         6.85\n",
       "==============================================================================\n",
       "\n",
       "Notes:\n",
       "[1] Standard Errors assume that the covariance matrix of the errors is correctly specified.\n",
       "\"\"\""
      ]
     },
     "execution_count": 40,
     "metadata": {},
     "output_type": "execute_result"
    }
   ],
   "source": [
    "formula = 'Rate ~ Area * Sex'\n",
    "fit = smf.ols(formula = formula, data = data2001).fit()\n",
    "fit.summary()"
   ]
  },
  {
   "cell_type": "markdown",
   "id": "386dd8bc-9d3a-44ac-a052-237b566d0096",
   "metadata": {},
   "source": [
    "## 1991 data"
   ]
  },
  {
   "cell_type": "code",
   "execution_count": 35,
   "id": "e21363d9-8eb2-4d2c-adf0-d3120d6e4272",
   "metadata": {},
   "outputs": [
    {
     "data": {
      "text/html": [
       "<div>\n",
       "<style scoped>\n",
       "    .dataframe tbody tr th:only-of-type {\n",
       "        vertical-align: middle;\n",
       "    }\n",
       "\n",
       "    .dataframe tbody tr th {\n",
       "        vertical-align: top;\n",
       "    }\n",
       "\n",
       "    .dataframe thead th {\n",
       "        text-align: right;\n",
       "    }\n",
       "</style>\n",
       "<table border=\"1\" class=\"dataframe\">\n",
       "  <thead>\n",
       "    <tr style=\"text-align: right;\">\n",
       "      <th></th>\n",
       "      <th>Column1</th>\n",
       "      <th>State</th>\n",
       "      <th>Area</th>\n",
       "      <th>Sex</th>\n",
       "      <th>Literacy Rate</th>\n",
       "    </tr>\n",
       "  </thead>\n",
       "  <tbody>\n",
       "    <tr>\n",
       "      <th>0</th>\n",
       "      <td>1</td>\n",
       "      <td>HIMACHAL PRADESH</td>\n",
       "      <td>Rural</td>\n",
       "      <td>Male</td>\n",
       "      <td>55.09</td>\n",
       "    </tr>\n",
       "    <tr>\n",
       "      <th>1</th>\n",
       "      <td>2</td>\n",
       "      <td>PUNJAB</td>\n",
       "      <td>Rural</td>\n",
       "      <td>Male</td>\n",
       "      <td>62.42</td>\n",
       "    </tr>\n",
       "    <tr>\n",
       "      <th>2</th>\n",
       "      <td>3</td>\n",
       "      <td>CHANDIGARH #</td>\n",
       "      <td>Rural</td>\n",
       "      <td>Male</td>\n",
       "      <td>52.17</td>\n",
       "    </tr>\n",
       "    <tr>\n",
       "      <th>3</th>\n",
       "      <td>4</td>\n",
       "      <td>UTTARAKHAND</td>\n",
       "      <td>Rural</td>\n",
       "      <td>Male</td>\n",
       "      <td>51.21</td>\n",
       "    </tr>\n",
       "    <tr>\n",
       "      <th>4</th>\n",
       "      <td>5</td>\n",
       "      <td>HARYANA</td>\n",
       "      <td>Rural</td>\n",
       "      <td>Male</td>\n",
       "      <td>60.43</td>\n",
       "    </tr>\n",
       "  </tbody>\n",
       "</table>\n",
       "</div>"
      ],
      "text/plain": [
       "   Column1             State   Area   Sex  Literacy Rate\n",
       "0        1  HIMACHAL PRADESH  Rural  Male          55.09\n",
       "1        2            PUNJAB  Rural  Male          62.42\n",
       "2        3      CHANDIGARH #  Rural  Male          52.17\n",
       "3        4       UTTARAKHAND  Rural  Male          51.21\n",
       "4        5           HARYANA  Rural  Male          60.43"
      ]
     },
     "execution_count": 35,
     "metadata": {},
     "output_type": "execute_result"
    }
   ],
   "source": [
    "#load data\n",
    "data1991 = pd.read_csv('https://raw.githubusercontent.com/simonemalekar/SDS/main/literacy1991.csv', \n",
    "                   delimiter = ',', engine = 'python')\n",
    "\n",
    "data1991.head()"
   ]
  },
  {
   "cell_type": "code",
   "execution_count": 36,
   "id": "44275c8b-8ec8-4e22-832f-6c990f8b4958",
   "metadata": {},
   "outputs": [],
   "source": [
    "data1991 = data1991.rename(columns = {'Literacy Rate': 'Rate'})"
   ]
  },
  {
   "cell_type": "code",
   "execution_count": 39,
   "id": "c6384750-94f4-4a90-9233-ad3d6b4b5d5d",
   "metadata": {},
   "outputs": [
    {
     "data": {
      "text/html": [
       "<table class=\"simpletable\">\n",
       "<caption>OLS Regression Results</caption>\n",
       "<tr>\n",
       "  <th>Dep. Variable:</th>          <td>Rate</td>       <th>  R-squared:         </th> <td>   0.814</td>\n",
       "</tr>\n",
       "<tr>\n",
       "  <th>Model:</th>                   <td>OLS</td>       <th>  Adj. R-squared:    </th> <td>   0.811</td>\n",
       "</tr>\n",
       "<tr>\n",
       "  <th>Method:</th>             <td>Least Squares</td>  <th>  F-statistic:       </th> <td>   290.4</td>\n",
       "</tr>\n",
       "<tr>\n",
       "  <th>Date:</th>             <td>Mon, 27 Dec 2021</td> <th>  Prob (F-statistic):</th> <td>2.97e-49</td>\n",
       "</tr>\n",
       "<tr>\n",
       "  <th>Time:</th>                 <td>17:50:16</td>     <th>  Log-Likelihood:    </th> <td> -481.13</td>\n",
       "</tr>\n",
       "<tr>\n",
       "  <th>No. Observations:</th>      <td>   136</td>      <th>  AIC:               </th> <td>   968.3</td>\n",
       "</tr>\n",
       "<tr>\n",
       "  <th>Df Residuals:</th>          <td>   133</td>      <th>  BIC:               </th> <td>   977.0</td>\n",
       "</tr>\n",
       "<tr>\n",
       "  <th>Df Model:</th>              <td>     2</td>      <th>                     </th>     <td> </td>   \n",
       "</tr>\n",
       "<tr>\n",
       "  <th>Covariance Type:</th>      <td>nonrobust</td>    <th>                     </th>     <td> </td>   \n",
       "</tr>\n",
       "</table>\n",
       "<table class=\"simpletable\">\n",
       "<tr>\n",
       "        <td></td>           <th>coef</th>     <th>std err</th>      <th>t</th>      <th>P>|t|</th>  <th>[0.025</th>    <th>0.975]</th>  \n",
       "</tr>\n",
       "<tr>\n",
       "  <th>Intercept</th>     <td>   34.5232</td> <td>    1.250</td> <td>   27.625</td> <td> 0.000</td> <td>   32.051</td> <td>   36.995</td>\n",
       "</tr>\n",
       "<tr>\n",
       "  <th>Area[T.Urban]</th> <td>   28.1935</td> <td>    1.443</td> <td>   19.538</td> <td> 0.000</td> <td>   25.339</td> <td>   31.048</td>\n",
       "</tr>\n",
       "<tr>\n",
       "  <th>Sex[T.Male]</th>   <td>   20.3618</td> <td>    1.443</td> <td>   14.110</td> <td> 0.000</td> <td>   17.507</td> <td>   23.216</td>\n",
       "</tr>\n",
       "</table>\n",
       "<table class=\"simpletable\">\n",
       "<tr>\n",
       "  <th>Omnibus:</th>       <td> 1.044</td> <th>  Durbin-Watson:     </th> <td>   1.879</td>\n",
       "</tr>\n",
       "<tr>\n",
       "  <th>Prob(Omnibus):</th> <td> 0.593</td> <th>  Jarque-Bera (JB):  </th> <td>   0.705</td>\n",
       "</tr>\n",
       "<tr>\n",
       "  <th>Skew:</th>          <td> 0.158</td> <th>  Prob(JB):          </th> <td>   0.703</td>\n",
       "</tr>\n",
       "<tr>\n",
       "  <th>Kurtosis:</th>      <td> 3.156</td> <th>  Cond. No.          </th> <td>    3.19</td>\n",
       "</tr>\n",
       "</table><br/><br/>Notes:<br/>[1] Standard Errors assume that the covariance matrix of the errors is correctly specified."
      ],
      "text/plain": [
       "<class 'statsmodels.iolib.summary.Summary'>\n",
       "\"\"\"\n",
       "                            OLS Regression Results                            \n",
       "==============================================================================\n",
       "Dep. Variable:                   Rate   R-squared:                       0.814\n",
       "Model:                            OLS   Adj. R-squared:                  0.811\n",
       "Method:                 Least Squares   F-statistic:                     290.4\n",
       "Date:                Mon, 27 Dec 2021   Prob (F-statistic):           2.97e-49\n",
       "Time:                        17:50:16   Log-Likelihood:                -481.13\n",
       "No. Observations:                 136   AIC:                             968.3\n",
       "Df Residuals:                     133   BIC:                             977.0\n",
       "Df Model:                           2                                         \n",
       "Covariance Type:            nonrobust                                         \n",
       "=================================================================================\n",
       "                    coef    std err          t      P>|t|      [0.025      0.975]\n",
       "---------------------------------------------------------------------------------\n",
       "Intercept        34.5232      1.250     27.625      0.000      32.051      36.995\n",
       "Area[T.Urban]    28.1935      1.443     19.538      0.000      25.339      31.048\n",
       "Sex[T.Male]      20.3618      1.443     14.110      0.000      17.507      23.216\n",
       "==============================================================================\n",
       "Omnibus:                        1.044   Durbin-Watson:                   1.879\n",
       "Prob(Omnibus):                  0.593   Jarque-Bera (JB):                0.705\n",
       "Skew:                           0.158   Prob(JB):                        0.703\n",
       "Kurtosis:                       3.156   Cond. No.                         3.19\n",
       "==============================================================================\n",
       "\n",
       "Notes:\n",
       "[1] Standard Errors assume that the covariance matrix of the errors is correctly specified.\n",
       "\"\"\""
      ]
     },
     "execution_count": 39,
     "metadata": {},
     "output_type": "execute_result"
    }
   ],
   "source": [
    "formula = 'Rate ~ Area + Sex'\n",
    "fit = smf.ols(formula = formula, data = data1991).fit()\n",
    "fit.summary()"
   ]
  },
  {
   "cell_type": "code",
   "execution_count": 41,
   "id": "ce6f61fc-0e4a-495c-a0a4-2bb7f5204227",
   "metadata": {},
   "outputs": [
    {
     "data": {
      "text/html": [
       "<table class=\"simpletable\">\n",
       "<caption>OLS Regression Results</caption>\n",
       "<tr>\n",
       "  <th>Dep. Variable:</th>          <td>Rate</td>       <th>  R-squared:         </th> <td>   0.830</td>\n",
       "</tr>\n",
       "<tr>\n",
       "  <th>Model:</th>                   <td>OLS</td>       <th>  Adj. R-squared:    </th> <td>   0.826</td>\n",
       "</tr>\n",
       "<tr>\n",
       "  <th>Method:</th>             <td>Least Squares</td>  <th>  F-statistic:       </th> <td>   214.8</td>\n",
       "</tr>\n",
       "<tr>\n",
       "  <th>Date:</th>             <td>Mon, 27 Dec 2021</td> <th>  Prob (F-statistic):</th> <td>1.38e-50</td>\n",
       "</tr>\n",
       "<tr>\n",
       "  <th>Time:</th>                 <td>17:51:11</td>     <th>  Log-Likelihood:    </th> <td> -474.91</td>\n",
       "</tr>\n",
       "<tr>\n",
       "  <th>No. Observations:</th>      <td>   136</td>      <th>  AIC:               </th> <td>   957.8</td>\n",
       "</tr>\n",
       "<tr>\n",
       "  <th>Df Residuals:</th>          <td>   132</td>      <th>  BIC:               </th> <td>   969.5</td>\n",
       "</tr>\n",
       "<tr>\n",
       "  <th>Df Model:</th>              <td>     3</td>      <th>                     </th>     <td> </td>   \n",
       "</tr>\n",
       "<tr>\n",
       "  <th>Covariance Type:</th>      <td>nonrobust</td>    <th>                     </th>     <td> </td>   \n",
       "</tr>\n",
       "</table>\n",
       "<table class=\"simpletable\">\n",
       "<tr>\n",
       "              <td></td>                 <th>coef</th>     <th>std err</th>      <th>t</th>      <th>P>|t|</th>  <th>[0.025</th>    <th>0.975]</th>  \n",
       "</tr>\n",
       "<tr>\n",
       "  <th>Intercept</th>                 <td>   32.0626</td> <td>    1.384</td> <td>   23.171</td> <td> 0.000</td> <td>   29.326</td> <td>   34.800</td>\n",
       "</tr>\n",
       "<tr>\n",
       "  <th>Area[T.Urban]</th>             <td>   33.1147</td> <td>    1.957</td> <td>   16.922</td> <td> 0.000</td> <td>   29.244</td> <td>   36.986</td>\n",
       "</tr>\n",
       "<tr>\n",
       "  <th>Sex[T.Male]</th>               <td>   25.2829</td> <td>    1.957</td> <td>   12.920</td> <td> 0.000</td> <td>   21.412</td> <td>   29.154</td>\n",
       "</tr>\n",
       "<tr>\n",
       "  <th>Area[T.Urban]:Sex[T.Male]</th> <td>   -9.8424</td> <td>    2.767</td> <td>   -3.556</td> <td> 0.001</td> <td>  -15.317</td> <td>   -4.368</td>\n",
       "</tr>\n",
       "</table>\n",
       "<table class=\"simpletable\">\n",
       "<tr>\n",
       "  <th>Omnibus:</th>       <td> 1.747</td> <th>  Durbin-Watson:     </th> <td>   2.035</td>\n",
       "</tr>\n",
       "<tr>\n",
       "  <th>Prob(Omnibus):</th> <td> 0.418</td> <th>  Jarque-Bera (JB):  </th> <td>   1.298</td>\n",
       "</tr>\n",
       "<tr>\n",
       "  <th>Skew:</th>          <td>-0.128</td> <th>  Prob(JB):          </th> <td>   0.523</td>\n",
       "</tr>\n",
       "<tr>\n",
       "  <th>Kurtosis:</th>      <td> 3.404</td> <th>  Cond. No.          </th> <td>    6.85</td>\n",
       "</tr>\n",
       "</table><br/><br/>Notes:<br/>[1] Standard Errors assume that the covariance matrix of the errors is correctly specified."
      ],
      "text/plain": [
       "<class 'statsmodels.iolib.summary.Summary'>\n",
       "\"\"\"\n",
       "                            OLS Regression Results                            \n",
       "==============================================================================\n",
       "Dep. Variable:                   Rate   R-squared:                       0.830\n",
       "Model:                            OLS   Adj. R-squared:                  0.826\n",
       "Method:                 Least Squares   F-statistic:                     214.8\n",
       "Date:                Mon, 27 Dec 2021   Prob (F-statistic):           1.38e-50\n",
       "Time:                        17:51:11   Log-Likelihood:                -474.91\n",
       "No. Observations:                 136   AIC:                             957.8\n",
       "Df Residuals:                     132   BIC:                             969.5\n",
       "Df Model:                           3                                         \n",
       "Covariance Type:            nonrobust                                         \n",
       "=============================================================================================\n",
       "                                coef    std err          t      P>|t|      [0.025      0.975]\n",
       "---------------------------------------------------------------------------------------------\n",
       "Intercept                    32.0626      1.384     23.171      0.000      29.326      34.800\n",
       "Area[T.Urban]                33.1147      1.957     16.922      0.000      29.244      36.986\n",
       "Sex[T.Male]                  25.2829      1.957     12.920      0.000      21.412      29.154\n",
       "Area[T.Urban]:Sex[T.Male]    -9.8424      2.767     -3.556      0.001     -15.317      -4.368\n",
       "==============================================================================\n",
       "Omnibus:                        1.747   Durbin-Watson:                   2.035\n",
       "Prob(Omnibus):                  0.418   Jarque-Bera (JB):                1.298\n",
       "Skew:                          -0.128   Prob(JB):                        0.523\n",
       "Kurtosis:                       3.404   Cond. No.                         6.85\n",
       "==============================================================================\n",
       "\n",
       "Notes:\n",
       "[1] Standard Errors assume that the covariance matrix of the errors is correctly specified.\n",
       "\"\"\""
      ]
     },
     "execution_count": 41,
     "metadata": {},
     "output_type": "execute_result"
    }
   ],
   "source": [
    "formula = 'Rate ~ Area * Sex'\n",
    "fit = smf.ols(formula = formula, data = data1991).fit()\n",
    "fit.summary()"
   ]
  },
  {
   "cell_type": "code",
   "execution_count": null,
   "id": "3eca47c5-17fd-45c8-bd64-0881b2791e25",
   "metadata": {},
   "outputs": [],
   "source": []
  }
 ],
 "metadata": {
  "kernelspec": {
   "display_name": "Python 3 (ipykernel)",
   "language": "python",
   "name": "python3"
  },
  "language_info": {
   "codemirror_mode": {
    "name": "ipython",
    "version": 3
   },
   "file_extension": ".py",
   "mimetype": "text/x-python",
   "name": "python",
   "nbconvert_exporter": "python",
   "pygments_lexer": "ipython3",
   "version": "3.9.7"
  }
 },
 "nbformat": 4,
 "nbformat_minor": 5
}
